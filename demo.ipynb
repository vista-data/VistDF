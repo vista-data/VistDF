{
 "cells": [
  {
   "cell_type": "code",
   "execution_count": null,
   "id": "2a73b3a4-706e-4960-9cbe-ff9255d0f765",
   "metadata": {},
   "outputs": [],
   "source": [
    "from vistdf.video_series import from_file, play"
   ]
  },
  {
   "cell_type": "code",
   "execution_count": null,
   "id": "bd306461-7043-4c66-b82c-6d7f06f483b8",
   "metadata": {},
   "outputs": [],
   "source": [
    "vdf = from_file('./scene-0553-CAM_FRONT-2018-8-28-13-48-16-12404.mp4')"
   ]
  },
  {
   "cell_type": "code",
   "execution_count": null,
   "id": "33a7816c-3196-4ee3-889b-67554e14112a",
   "metadata": {},
   "outputs": [],
   "source": [
    "vdf"
   ]
  },
  {
   "cell_type": "code",
   "execution_count": null,
   "id": "f65d00fb-ff88-4413-86c7-42be5df0e2a5",
   "metadata": {},
   "outputs": [],
   "source": [
    "play(vdf)"
   ]
  },
  {
   "cell_type": "code",
   "execution_count": null,
   "id": "8e787780-955d-4014-8fcb-4ee42f03c5b8",
   "metadata": {},
   "outputs": [],
   "source": [
    "from vistdf.video_series import detect"
   ]
  },
  {
   "cell_type": "code",
   "execution_count": null,
   "id": "5a0aca69-68c8-4d27-b88a-34002fc84827",
   "metadata": {},
   "outputs": [],
   "source": [
    "vdf['detections'] = detect(vdf['frame'])"
   ]
  },
  {
   "cell_type": "code",
   "execution_count": null,
   "id": "5e7d989d-08da-4fbc-b816-faba2678c8c1",
   "metadata": {},
   "outputs": [],
   "source": [
    "vdf"
   ]
  },
  {
   "cell_type": "code",
   "execution_count": null,
   "id": "3ff06715-4cdc-447c-92be-c18ee5214b3e",
   "metadata": {},
   "outputs": [],
   "source": [
    "from vistdf.video_series import track"
   ]
  },
  {
   "cell_type": "code",
   "execution_count": null,
   "id": "6326a248-bd34-40c6-a17e-e58ccc9d29ea",
   "metadata": {},
   "outputs": [],
   "source": [
    "vdf_trajectory = track(vdf['detections'])"
   ]
  },
  {
   "cell_type": "code",
   "execution_count": null,
   "id": "e91441a1-2c0a-4ef8-b552-3629497edb3c",
   "metadata": {},
   "outputs": [],
   "source": [
    "vdf_trajectory"
   ]
  },
  {
   "cell_type": "code",
   "execution_count": null,
   "id": "e9ed97a7-5987-4ffb-8227-bf61b906573f",
   "metadata": {},
   "outputs": [],
   "source": []
  }
 ],
 "metadata": {
  "kernelspec": {
   "display_name": "Python 3 (ipykernel)",
   "language": "python",
   "name": "python3"
  },
  "language_info": {
   "codemirror_mode": {
    "name": "ipython",
    "version": 3
   },
   "file_extension": ".py",
   "mimetype": "text/x-python",
   "name": "python",
   "nbconvert_exporter": "python",
   "pygments_lexer": "ipython3",
   "version": "3.11.9"
  }
 },
 "nbformat": 4,
 "nbformat_minor": 5
}
