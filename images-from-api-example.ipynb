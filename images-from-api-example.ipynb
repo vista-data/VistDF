{
 "cells": [
  {
   "cell_type": "code",
   "execution_count": null,
   "id": "fb551951-3fee-4456-8f32-a27f84f1255c",
   "metadata": {},
   "outputs": [],
   "source": [
    "import pandas as pd\n",
    "import time\n",
    "import numpy as np"
   ]
  },
  {
   "cell_type": "code",
   "execution_count": null,
   "id": "e1dd0fa3-56c9-4bfe-bca5-f0093679671e",
   "metadata": {},
   "outputs": [],
   "source": []
  },
  {
   "cell_type": "code",
   "execution_count": null,
   "id": "166a4afe-accb-491a-8841-1b9a241a7509",
   "metadata": {},
   "outputs": [],
   "source": [
    "from vistdf.images import ImagesFromAPI"
   ]
  },
  {
   "cell_type": "code",
   "execution_count": null,
   "id": "7d0f43d9-c8ba-4694-8834-831ada83c7ac",
   "metadata": {},
   "outputs": [],
   "source": [
    "def fetch(uri, key):\n",
    "    time.sleep(3)\n",
    "    arr = np.zeros((3, 3, 3))\n",
    "    arr[:,:,:] = int(key) * 20\n",
    "    return arr"
   ]
  },
  {
   "cell_type": "code",
   "execution_count": null,
   "id": "7edeabe6-d34d-4b36-9b92-8f37145fbca6",
   "metadata": {},
   "outputs": [],
   "source": [
    "def loader(key):\n",
    "    # do some fetching\n",
    "    # it is ok to have a running fetch\n",
    "    return fetch('https://xxxxx/', key)"
   ]
  },
  {
   "cell_type": "code",
   "execution_count": null,
   "id": "d744935d-914d-43f4-8ebd-032a4d12160b",
   "metadata": {},
   "outputs": [],
   "source": [
    "latlons = ['1', '2', '3']"
   ]
  },
  {
   "cell_type": "code",
   "execution_count": null,
   "id": "4caf08e1-9b8c-4a48-b688-8e5523a7a69d",
   "metadata": {},
   "outputs": [],
   "source": [
    "%autoawait asyncio"
   ]
  },
  {
   "cell_type": "code",
   "execution_count": null,
   "id": "5e53a058-3138-440a-975d-bc3dfb8d0c39",
   "metadata": {},
   "outputs": [],
   "source": [
    "# fetch all the images ass soon as initialized but not blocking\n",
    "df = pd.DataFrame({'images': ImagesFromAPI(latlons, loader, dirname='_test_wait')})"
   ]
  },
  {
   "cell_type": "code",
   "execution_count": null,
   "id": "e97504f8-be14-4fe1-9e1f-e4d2fefd71b9",
   "metadata": {},
   "outputs": [],
   "source": [
    "df"
   ]
  },
  {
   "cell_type": "code",
   "execution_count": null,
   "id": "b790d1eb-e933-43de-aef0-44a6b9d07269",
   "metadata": {},
   "outputs": [],
   "source": [
    "# try waiting 3-5 seconds before executing next cell"
   ]
  },
  {
   "cell_type": "code",
   "execution_count": null,
   "id": "76f3111f-dd2d-4086-a199-f250d53456fc",
   "metadata": {},
   "outputs": [],
   "source": [
    "df['images'].apply(lambda x: x.image)[0]"
   ]
  },
  {
   "cell_type": "code",
   "execution_count": null,
   "id": "4b59ada0-43f5-4f2f-b8d2-b0c0f60b084b",
   "metadata": {},
   "outputs": [],
   "source": [
    "# fetch all the images ass soon as initialized but not blocking\n",
    "df = pd.DataFrame({'images': ImagesFromAPI(latlons, loader, dirname='_test_no_wait')})"
   ]
  },
  {
   "cell_type": "code",
   "execution_count": null,
   "id": "251c6f12-756a-4dce-8942-bd8e26b59642",
   "metadata": {},
   "outputs": [],
   "source": [
    "# now try running this cell immediately after the previous one.\n",
    "df['images'].apply(lambda x: x.image)[2]"
   ]
  },
  {
   "cell_type": "code",
   "execution_count": null,
   "id": "3ed2d299-c7c4-4cec-992a-fd1023a9cad1",
   "metadata": {},
   "outputs": [],
   "source": []
  }
 ],
 "metadata": {
  "kernelspec": {
   "display_name": "Python 3 (ipykernel)",
   "language": "python",
   "name": "python3"
  },
  "language_info": {
   "codemirror_mode": {
    "name": "ipython",
    "version": 3
   },
   "file_extension": ".py",
   "mimetype": "text/x-python",
   "name": "python",
   "nbconvert_exporter": "python",
   "pygments_lexer": "ipython3",
   "version": "3.11.9"
  }
 },
 "nbformat": 4,
 "nbformat_minor": 5
}
